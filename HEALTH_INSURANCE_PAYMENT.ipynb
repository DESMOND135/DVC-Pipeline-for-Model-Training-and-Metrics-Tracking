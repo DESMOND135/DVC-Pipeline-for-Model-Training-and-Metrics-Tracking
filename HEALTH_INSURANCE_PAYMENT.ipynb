{
 "cells": [
  {
   "cell_type": "markdown",
   "id": "b68451d1-e163-4972-b503-5d283536e5ee",
   "metadata": {},
   "source": [
    "##                      PROJECT ON HEALTH INSURANCE PURCHASE"
   ]
  },
  {
   "cell_type": "code",
   "execution_count": 1,
   "id": "23e42b64-840f-4b3a-9156-2fda15ed1be1",
   "metadata": {},
   "outputs": [
    {
     "data": {
      "text/html": [
       "<div>\n",
       "<style scoped>\n",
       "    .dataframe tbody tr th:only-of-type {\n",
       "        vertical-align: middle;\n",
       "    }\n",
       "\n",
       "    .dataframe tbody tr th {\n",
       "        vertical-align: top;\n",
       "    }\n",
       "\n",
       "    .dataframe thead th {\n",
       "        text-align: right;\n",
       "    }\n",
       "</style>\n",
       "<table border=\"1\" class=\"dataframe\">\n",
       "  <thead>\n",
       "    <tr style=\"text-align: right;\">\n",
       "      <th></th>\n",
       "      <th>age</th>\n",
       "      <th>sex</th>\n",
       "      <th>bmi</th>\n",
       "      <th>smoker</th>\n",
       "      <th>region</th>\n",
       "      <th>children</th>\n",
       "      <th>charges</th>\n",
       "    </tr>\n",
       "  </thead>\n",
       "  <tbody>\n",
       "    <tr>\n",
       "      <th>0</th>\n",
       "      <td>21.000000</td>\n",
       "      <td>male</td>\n",
       "      <td>25.745000</td>\n",
       "      <td>no</td>\n",
       "      <td>northeast</td>\n",
       "      <td>2</td>\n",
       "      <td>3279.868550</td>\n",
       "    </tr>\n",
       "    <tr>\n",
       "      <th>1</th>\n",
       "      <td>36.976978</td>\n",
       "      <td>female</td>\n",
       "      <td>25.744165</td>\n",
       "      <td>yes</td>\n",
       "      <td>southeast</td>\n",
       "      <td>3</td>\n",
       "      <td>21454.494240</td>\n",
       "    </tr>\n",
       "    <tr>\n",
       "      <th>2</th>\n",
       "      <td>18.000000</td>\n",
       "      <td>male</td>\n",
       "      <td>30.030000</td>\n",
       "      <td>no</td>\n",
       "      <td>southeast</td>\n",
       "      <td>1</td>\n",
       "      <td>1720.353700</td>\n",
       "    </tr>\n",
       "    <tr>\n",
       "      <th>3</th>\n",
       "      <td>37.000000</td>\n",
       "      <td>male</td>\n",
       "      <td>30.676891</td>\n",
       "      <td>no</td>\n",
       "      <td>northeast</td>\n",
       "      <td>3</td>\n",
       "      <td>6801.437542</td>\n",
       "    </tr>\n",
       "    <tr>\n",
       "      <th>4</th>\n",
       "      <td>58.000000</td>\n",
       "      <td>male</td>\n",
       "      <td>32.010000</td>\n",
       "      <td>no</td>\n",
       "      <td>southeast</td>\n",
       "      <td>1</td>\n",
       "      <td>11946.625900</td>\n",
       "    </tr>\n",
       "  </tbody>\n",
       "</table>\n",
       "</div>"
      ],
      "text/plain": [
       "         age     sex        bmi smoker     region  children       charges\n",
       "0  21.000000    male  25.745000     no  northeast         2   3279.868550\n",
       "1  36.976978  female  25.744165    yes  southeast         3  21454.494240\n",
       "2  18.000000    male  30.030000     no  southeast         1   1720.353700\n",
       "3  37.000000    male  30.676891     no  northeast         3   6801.437542\n",
       "4  58.000000    male  32.010000     no  southeast         1  11946.625900"
      ]
     },
     "execution_count": 1,
     "metadata": {},
     "output_type": "execute_result"
    }
   ],
   "source": [
    "## importing the necessary libraries and dataset\n",
    "\n",
    "import pandas as pd \n",
    "import seaborn as sns\n",
    "import numpy as np\n",
    "import joblib, os\n",
    "import matplotlib.pyplot as plt\n",
    "from sklearn.model_selection import train_test_split \n",
    "from sklearn.linear_model import LinearRegression \n",
    "from sklearn.metrics import r2_score\n",
    "import pickle  # Make sure to import pickle\n",
    "from sklearn.preprocessing import StandardScaler,LabelEncoder\n",
    "import warnings\n",
    "warnings.filterwarnings('ignore')\n",
    "\n",
    "%matplotlib inline\n",
    "\n",
    "\n",
    "df=pd.read_csv('TRAIN.csv') \n",
    "df.head()"
   ]
  },
  {
   "cell_type": "code",
   "execution_count": 2,
   "id": "26212668-c042-4f72-bd0f-b0bb49ce387b",
   "metadata": {},
   "outputs": [
    {
     "data": {
      "application/vnd.microsoft.datawrangler.viewer.v0+json": {
       "columns": [
        {
         "name": "index",
         "rawType": "object",
         "type": "string"
        },
        {
         "name": "0",
         "rawType": "int64",
         "type": "integer"
        }
       ],
       "ref": "9b1bf34f-8e3a-4cd2-8a75-2e73f0d76913",
       "rows": [
        [
         "age",
         "0"
        ],
        [
         "sex",
         "0"
        ],
        [
         "bmi",
         "0"
        ],
        [
         "smoker",
         "0"
        ],
        [
         "region",
         "0"
        ],
        [
         "children",
         "0"
        ],
        [
         "charges",
         "0"
        ]
       ],
       "shape": {
        "columns": 1,
        "rows": 7
       }
      },
      "text/plain": [
       "age         0\n",
       "sex         0\n",
       "bmi         0\n",
       "smoker      0\n",
       "region      0\n",
       "children    0\n",
       "charges     0\n",
       "dtype: int64"
      ]
     },
     "execution_count": 2,
     "metadata": {},
     "output_type": "execute_result"
    }
   ],
   "source": [
    "# checking for null values\n",
    "df.isnull().sum()"
   ]
  },
  {
   "cell_type": "code",
   "execution_count": 3,
   "id": "39890eb5-25b3-480e-ad5e-eaef5c8cc9c0",
   "metadata": {},
   "outputs": [
    {
     "data": {
      "text/plain": [
       "<bound method DataFrame.info of             age     sex        bmi smoker     region  children       charges\n",
       "0     21.000000    male  25.745000     no  northeast         2   3279.868550\n",
       "1     36.976978  female  25.744165    yes  southeast         3  21454.494240\n",
       "2     18.000000    male  30.030000     no  southeast         1   1720.353700\n",
       "3     37.000000    male  30.676891     no  northeast         3   6801.437542\n",
       "4     58.000000    male  32.010000     no  southeast         1  11946.625900\n",
       "...         ...     ...        ...    ...        ...       ...           ...\n",
       "3625  48.820767  female  41.426984     no  northwest         4  10987.324960\n",
       "3626  38.661977  female  26.202557     no  southeast         2  11735.844350\n",
       "3627  56.000000    male  40.300000     no  southwest         0  10602.385000\n",
       "3628  48.061207  female  34.930624     no  southeast         1   8976.140452\n",
       "3629  37.598865  female  25.219233     no  northeast         3   7027.698968\n",
       "\n",
       "[3630 rows x 7 columns]>"
      ]
     },
     "execution_count": 3,
     "metadata": {},
     "output_type": "execute_result"
    }
   ],
   "source": [
    "df.info"
   ]
  },
  {
   "cell_type": "code",
   "execution_count": 4,
   "id": "665f5327-a791-4a60-941b-048637fe41db",
   "metadata": {},
   "outputs": [
    {
     "data": {
      "application/vnd.microsoft.datawrangler.viewer.v0+json": {
       "columns": [
        {
         "name": "index",
         "rawType": "object",
         "type": "string"
        },
        {
         "name": "age",
         "rawType": "float64",
         "type": "float"
        },
        {
         "name": "bmi",
         "rawType": "float64",
         "type": "float"
        },
        {
         "name": "children",
         "rawType": "float64",
         "type": "float"
        },
        {
         "name": "charges",
         "rawType": "float64",
         "type": "float"
        }
       ],
       "ref": "ebd01cd7-19cf-487b-a46a-8c26a99332a9",
       "rows": [
        [
         "count",
         "3630.0",
         "3630.0",
         "3630.0",
         "3630.0"
        ],
        [
         "mean",
         "38.88703646830853",
         "30.629652449842975",
         "2.5035812672176307",
         "12784.808643526721"
        ],
        [
         "std",
         "12.151029434958325",
         "5.441307077538298",
         "1.7125678955250503",
         "10746.1667428144"
        ],
        [
         "min",
         "18.0",
         "15.96",
         "0.0",
         "1121.8739"
        ],
        [
         "25%",
         "29.0",
         "26.69452631",
         "1.0",
         "5654.818262"
        ],
        [
         "50%",
         "39.170921965000005",
         "30.2",
         "3.0",
         "9443.8072215"
        ],
        [
         "75%",
         "48.34328116",
         "34.1",
         "4.0",
         "14680.407505"
        ],
        [
         "max",
         "64.0",
         "53.13",
         "5.0",
         "63770.42801"
        ]
       ],
       "shape": {
        "columns": 4,
        "rows": 8
       }
      },
      "text/html": [
       "<div>\n",
       "<style scoped>\n",
       "    .dataframe tbody tr th:only-of-type {\n",
       "        vertical-align: middle;\n",
       "    }\n",
       "\n",
       "    .dataframe tbody tr th {\n",
       "        vertical-align: top;\n",
       "    }\n",
       "\n",
       "    .dataframe thead th {\n",
       "        text-align: right;\n",
       "    }\n",
       "</style>\n",
       "<table border=\"1\" class=\"dataframe\">\n",
       "  <thead>\n",
       "    <tr style=\"text-align: right;\">\n",
       "      <th></th>\n",
       "      <th>age</th>\n",
       "      <th>bmi</th>\n",
       "      <th>children</th>\n",
       "      <th>charges</th>\n",
       "    </tr>\n",
       "  </thead>\n",
       "  <tbody>\n",
       "    <tr>\n",
       "      <th>count</th>\n",
       "      <td>3630.000000</td>\n",
       "      <td>3630.000000</td>\n",
       "      <td>3630.000000</td>\n",
       "      <td>3630.000000</td>\n",
       "    </tr>\n",
       "    <tr>\n",
       "      <th>mean</th>\n",
       "      <td>38.887036</td>\n",
       "      <td>30.629652</td>\n",
       "      <td>2.503581</td>\n",
       "      <td>12784.808644</td>\n",
       "    </tr>\n",
       "    <tr>\n",
       "      <th>std</th>\n",
       "      <td>12.151029</td>\n",
       "      <td>5.441307</td>\n",
       "      <td>1.712568</td>\n",
       "      <td>10746.166743</td>\n",
       "    </tr>\n",
       "    <tr>\n",
       "      <th>min</th>\n",
       "      <td>18.000000</td>\n",
       "      <td>15.960000</td>\n",
       "      <td>0.000000</td>\n",
       "      <td>1121.873900</td>\n",
       "    </tr>\n",
       "    <tr>\n",
       "      <th>25%</th>\n",
       "      <td>29.000000</td>\n",
       "      <td>26.694526</td>\n",
       "      <td>1.000000</td>\n",
       "      <td>5654.818262</td>\n",
       "    </tr>\n",
       "    <tr>\n",
       "      <th>50%</th>\n",
       "      <td>39.170922</td>\n",
       "      <td>30.200000</td>\n",
       "      <td>3.000000</td>\n",
       "      <td>9443.807221</td>\n",
       "    </tr>\n",
       "    <tr>\n",
       "      <th>75%</th>\n",
       "      <td>48.343281</td>\n",
       "      <td>34.100000</td>\n",
       "      <td>4.000000</td>\n",
       "      <td>14680.407505</td>\n",
       "    </tr>\n",
       "    <tr>\n",
       "      <th>max</th>\n",
       "      <td>64.000000</td>\n",
       "      <td>53.130000</td>\n",
       "      <td>5.000000</td>\n",
       "      <td>63770.428010</td>\n",
       "    </tr>\n",
       "  </tbody>\n",
       "</table>\n",
       "</div>"
      ],
      "text/plain": [
       "               age          bmi     children       charges\n",
       "count  3630.000000  3630.000000  3630.000000   3630.000000\n",
       "mean     38.887036    30.629652     2.503581  12784.808644\n",
       "std      12.151029     5.441307     1.712568  10746.166743\n",
       "min      18.000000    15.960000     0.000000   1121.873900\n",
       "25%      29.000000    26.694526     1.000000   5654.818262\n",
       "50%      39.170922    30.200000     3.000000   9443.807221\n",
       "75%      48.343281    34.100000     4.000000  14680.407505\n",
       "max      64.000000    53.130000     5.000000  63770.428010"
      ]
     },
     "execution_count": 4,
     "metadata": {},
     "output_type": "execute_result"
    }
   ],
   "source": [
    "## getting basic information about the dataset\n",
    "df.describe()"
   ]
  },
  {
   "cell_type": "code",
   "execution_count": 5,
   "id": "6c85e4ae-9d05-4923-a67a-4daa37db88e6",
   "metadata": {},
   "outputs": [
    {
     "data": {
      "text/plain": [
       "Index(['age', 'sex', 'bmi', 'smoker', 'region', 'children', 'charges'], dtype='object')"
      ]
     },
     "execution_count": 5,
     "metadata": {},
     "output_type": "execute_result"
    }
   ],
   "source": [
    "df.columns"
   ]
  },
  {
   "cell_type": "code",
   "execution_count": 6,
   "id": "5807e635-1685-4fba-b04c-bff5278370e5",
   "metadata": {},
   "outputs": [
    {
     "data": {
      "application/vnd.microsoft.datawrangler.viewer.v0+json": {
       "columns": [
        {
         "name": "sex",
         "rawType": "object",
         "type": "string"
        },
        {
         "name": "count",
         "rawType": "int64",
         "type": "integer"
        }
       ],
       "ref": "d93056dd-a288-4032-91d0-6448e50fb4e5",
       "rows": [
        [
         "male",
         "2029"
        ],
        [
         "female",
         "1601"
        ]
       ],
       "shape": {
        "columns": 1,
        "rows": 2
       }
      },
      "text/plain": [
       "sex\n",
       "male      2029\n",
       "female    1601\n",
       "Name: count, dtype: int64"
      ]
     },
     "execution_count": 6,
     "metadata": {},
     "output_type": "execute_result"
    }
   ],
   "source": [
    "## getting the number of male and female in our dataset\n",
    "df['sex'].value_counts()"
   ]
  },
  {
   "cell_type": "code",
   "execution_count": 7,
   "id": "3ae513fe",
   "metadata": {},
   "outputs": [
    {
     "data": {
      "text/plain": [
       "<Axes: xlabel='smoker'>"
      ]
     },
     "execution_count": 7,
     "metadata": {},
     "output_type": "execute_result"
    }
   ],
   "source": [
    "## getting the number of male and female in our dataset\n",
    "\n",
    "df.groupby(['smoker','sex']).size().unstack().plot(kind='bar',stacked=True)"
   ]
  },
  {
   "cell_type": "code",
   "execution_count": 8,
   "id": "c5fe8950",
   "metadata": {},
   "outputs": [
    {
     "data": {
      "application/vnd.microsoft.datawrangler.viewer.v0+json": {
       "columns": [
        {
         "name": "region",
         "rawType": "object",
         "type": "string"
        },
        {
         "name": "count",
         "rawType": "int64",
         "type": "integer"
        }
       ],
       "ref": "b7946bec-9adc-45c8-a627-07a6f3deef20",
       "rows": [
        [
         "southeast",
         "1021"
        ],
        [
         "northwest",
         "911"
        ],
        [
         "southwest",
         "850"
        ],
        [
         "northeast",
         "848"
        ]
       ],
       "shape": {
        "columns": 1,
        "rows": 4
       }
      },
      "text/plain": [
       "region\n",
       "southeast    1021\n",
       "northwest     911\n",
       "southwest     850\n",
       "northeast     848\n",
       "Name: count, dtype: int64"
      ]
     },
     "execution_count": 8,
     "metadata": {},
     "output_type": "execute_result"
    }
   ],
   "source": [
    "## getting the number of those coming from the various regions in our dataset\n",
    "df['region'].value_counts()"
   ]
  },
  {
   "cell_type": "code",
   "execution_count": 9,
   "id": "fd0491c4",
   "metadata": {},
   "outputs": [
    {
     "data": {
      "image/png": "[encoded data removed]",
      "text/plain": [
       "<Figure size 640x480 with 1 Axes>"
      ]
     },
     "metadata": {},
     "output_type": "display_data"
    },
    {
     "data": {
      "image/png": "[encoded data removed]",
      "text/plain": [
       "<Figure size 500x500 with 1 Axes>"
      ]
     },
     "metadata": {},
     "output_type": "display_data"
    }
   ],
   "source": [
    "# the effect of charges base on the region\n",
    "\n",
    "plt.figure(figsize=(5,5))\n",
    "sns.countplot(x='region', data=df)\n",
    "plt.title('Region')\n",
    "plt.show()"
   ]
  },
  {
   "cell_type": "code",
   "execution_count": 10,
   "id": "0dcb6d8a",
   "metadata": {},
   "outputs": [
    {
     "data": {
      "application/vnd.microsoft.datawrangler.viewer.v0+json": {
       "columns": [
        {
         "name": "('smoker', 'sex')",
         "rawType": "object",
         "type": "unknown"
        },
        {
         "name": "age",
         "rawType": "int64",
         "type": "integer"
        },
        {
         "name": "bmi",
         "rawType": "int64",
         "type": "integer"
        },
        {
         "name": "region",
         "rawType": "int64",
         "type": "integer"
        },
        {
         "name": "children",
         "rawType": "int64",
         "type": "integer"
        },
        {
         "name": "charges",
         "rawType": "int64",
         "type": "integer"
        }
       ],
       "ref": "a9377bbe-e257-409c-bb3a-f522b4286cbe",
       "rows": [
        [
         "('no', 'female')",
         "1405",
         "1405",
         "1405",
         "1405",
         "1405"
        ],
        [
         "('no', 'male')",
         "1665",
         "1665",
         "1665",
         "1665",
         "1665"
        ],
        [
         "('yes', 'female')",
         "196",
         "196",
         "196",
         "196",
         "196"
        ],
        [
         "('yes', 'male')",
         "364",
         "364",
         "364",
         "364",
         "364"
        ]
       ],
       "shape": {
        "columns": 5,
        "rows": 4
       }
      },
      "text/html": [
       "<div>\n",
       "<style scoped>\n",
       "    .dataframe tbody tr th:only-of-type {\n",
       "        vertical-align: middle;\n",
       "    }\n",
       "\n",
       "    .dataframe tbody tr th {\n",
       "        vertical-align: top;\n",
       "    }\n",
       "\n",
       "    .dataframe thead th {\n",
       "        text-align: right;\n",
       "    }\n",
       "</style>\n",
       "<table border=\"1\" class=\"dataframe\">\n",
       "  <thead>\n",
       "    <tr style=\"text-align: right;\">\n",
       "      <th></th>\n",
       "      <th></th>\n",
       "      <th>age</th>\n",
       "      <th>bmi</th>\n",
       "      <th>region</th>\n",
       "      <th>children</th>\n",
       "      <th>charges</th>\n",
       "    </tr>\n",
       "    <tr>\n",
       "      <th>smoker</th>\n",
       "      <th>sex</th>\n",
       "      <th></th>\n",
       "      <th></th>\n",
       "      <th></th>\n",
       "      <th></th>\n",
       "      <th></th>\n",
       "    </tr>\n",
       "  </thead>\n",
       "  <tbody>\n",
       "    <tr>\n",
       "      <th rowspan=\"2\" valign=\"top\">no</th>\n",
       "      <th>female</th>\n",
       "      <td>1405</td>\n",
       "      <td>1405</td>\n",
       "      <td>1405</td>\n",
       "      <td>1405</td>\n",
       "      <td>1405</td>\n",
       "    </tr>\n",
       "    <tr>\n",
       "      <th>male</th>\n",
       "      <td>1665</td>\n",
       "      <td>1665</td>\n",
       "      <td>1665</td>\n",
       "      <td>1665</td>\n",
       "      <td>1665</td>\n",
       "    </tr>\n",
       "    <tr>\n",
       "      <th rowspan=\"2\" valign=\"top\">yes</th>\n",
       "      <th>female</th>\n",
       "      <td>196</td>\n",
       "      <td>196</td>\n",
       "      <td>196</td>\n",
       "      <td>196</td>\n",
       "      <td>196</td>\n",
       "    </tr>\n",
       "    <tr>\n",
       "      <th>male</th>\n",
       "      <td>364</td>\n",
       "      <td>364</td>\n",
       "      <td>364</td>\n",
       "      <td>364</td>\n",
       "      <td>364</td>\n",
       "    </tr>\n",
       "  </tbody>\n",
       "</table>\n",
       "</div>"
      ],
      "text/plain": [
       "                age   bmi  region  children  charges\n",
       "smoker sex                                          \n",
       "no     female  1405  1405    1405      1405     1405\n",
       "       male    1665  1665    1665      1665     1665\n",
       "yes    female   196   196     196       196      196\n",
       "       male     364   364     364       364      364"
      ]
     },
     "execution_count": 10,
     "metadata": {},
     "output_type": "execute_result"
    }
   ],
   "source": [
    "df.groupby(['smoker','sex']).count()"
   ]
  },
  {
   "cell_type": "code",
   "execution_count": 11,
   "id": "a45d8265-73a6-4c87-b069-4ea8fcaa280b",
   "metadata": {},
   "outputs": [
    {
     "data": {
      "text/plain": [
       "Text(0.5, 1.0, 'Cost vs Region')"
      ]
     },
     "execution_count": 11,
     "metadata": {},
     "output_type": "execute_result"
    }
   ],
   "source": [
    "\n",
    "plt.figure(figsize=(5,5))\n",
    "sns.barplot(x='region', y='charges', data=df)\n",
    "plt.title('Cost vs Region')"
   ]
  },
  {
   "cell_type": "code",
   "execution_count": 12,
   "id": "84ee05c1",
   "metadata": {},
   "outputs": [
    {
     "data": {
      "text/plain": [
       "Text(0.5, 1.0, 'Charges for smokers')"
      ]
     },
     "execution_count": 12,
     "metadata": {},
     "output_type": "execute_result"
    }
   ],
   "source": [
    "## the effect of charges to smokers\n",
    "plt.figure(figsize=(5,5))\n",
    "sns.barplot(x='sex', y='charges',hue='smoker', data=df)\n",
    "plt.title('Charges for smokers')"
   ]
  },
  {
   "cell_type": "code",
   "execution_count": 13,
   "id": "8e9b0a8c-79d4-4fb7-8acd-6e8d028e6cb9",
   "metadata": {},
   "outputs": [
    {
     "data": {
      "application/vnd.microsoft.datawrangler.viewer.v0+json": {
       "columns": [
        {
         "name": "index",
         "rawType": "int64",
         "type": "integer"
        },
        {
         "name": "age",
         "rawType": "float64",
         "type": "float"
        },
        {
         "name": "sex",
         "rawType": "int32",
         "type": "integer"
        },
        {
         "name": "bmi",
         "rawType": "float64",
         "type": "float"
        },
        {
         "name": "smoker",
         "rawType": "int32",
         "type": "integer"
        },
        {
         "name": "region",
         "rawType": "int32",
         "type": "integer"
        },
        {
         "name": "children",
         "rawType": "int64",
         "type": "integer"
        },
        {
         "name": "charges",
         "rawType": "float64",
         "type": "float"
        }
       ],
       "ref": "308f4199-172c-48bf-869c-299074028767",
       "rows": [
        [
         "0",
         "21.0",
         "1",
         "25.745",
         "0",
         "0",
         "2",
         "3279.86855"
        ],
        [
         "1",
         "36.976978",
         "0",
         "25.74416485",
         "1",
         "2",
         "3",
         "21454.49424"
        ],
        [
         "2",
         "18.0",
         "1",
         "30.03",
         "0",
         "2",
         "1",
         "1720.3537"
        ],
        [
         "3",
         "37.0",
         "1",
         "30.67689127",
         "0",
         "0",
         "3",
         "6801.437542"
        ],
        [
         "4",
         "58.0",
         "1",
         "32.01",
         "0",
         "2",
         "1",
         "11946.6259"
        ],
        [
         "5",
         "46.0",
         "1",
         "26.62",
         "0",
         "2",
         "1",
         "7742.1098"
        ],
        [
         "6",
         "25.22173065",
         "1",
         "31.19264736",
         "0",
         "0",
         "4",
         "21736.32814"
        ],
        [
         "7",
         "29.48644271",
         "0",
         "24.22261415",
         "0",
         "1",
         "2",
         "4916.953065"
        ],
        [
         "8",
         "26.52049427",
         "1",
         "25.06571227",
         "0",
         "3",
         "5",
         "5515.809345"
        ],
        [
         "9",
         "47.49347612",
         "0",
         "27.30201322",
         "0",
         "1",
         "3",
         "17009.33499"
        ],
        [
         "10",
         "35.69460731",
         "1",
         "33.57712776",
         "1",
         "3",
         "2",
         "38433.5243"
        ],
        [
         "11",
         "45.0",
         "0",
         "26.91741127",
         "0",
         "0",
         "2",
         "8549.137155"
        ],
        [
         "12",
         "36.42084212",
         "1",
         "31.80639454",
         "0",
         "0",
         "4",
         "16099.36762"
        ],
        [
         "13",
         "44.32531031",
         "0",
         "26.93787533",
         "0",
         "3",
         "1",
         "7492.985451"
        ],
        [
         "14",
         "22.34422463",
         "1",
         "27.04518479",
         "0",
         "0",
         "4",
         "18091.37381"
        ],
        [
         "15",
         "46.697739",
         "1",
         "33.55485918",
         "1",
         "0",
         "1",
         "41501.65555"
        ],
        [
         "16",
         "19.86085293",
         "0",
         "25.32350602",
         "0",
         "1",
         "1",
         "2661.191273"
        ],
        [
         "17",
         "47.0",
         "1",
         "36.08",
         "1",
         "2",
         "1",
         "42211.1382"
        ],
        [
         "18",
         "64.0",
         "0",
         "30.115",
         "0",
         "1",
         "3",
         "16455.70785"
        ],
        [
         "19",
         "29.0",
         "1",
         "32.11",
         "0",
         "1",
         "2",
         "4433.9159"
        ],
        [
         "20",
         "38.0",
         "0",
         "34.8",
         "0",
         "3",
         "2",
         "6571.544"
        ],
        [
         "21",
         "47.0",
         "0",
         "24.1",
         "0",
         "3",
         "1",
         "26236.57997"
        ],
        [
         "22",
         "32.22547032",
         "0",
         "37.24138856",
         "0",
         "0",
         "3",
         "6318.797873"
        ],
        [
         "23",
         "28.63887904",
         "1",
         "28.23936325",
         "0",
         "3",
         "5",
         "5795.905627"
        ],
        [
         "24",
         "63.0",
         "0",
         "32.2",
         "1",
         "3",
         "2",
         "47305.305"
        ],
        [
         "25",
         "52.0",
         "1",
         "32.205",
         "0",
         "0",
         "3",
         "11488.31695"
        ],
        [
         "26",
         "34.03884791",
         "1",
         "30.5584621",
         "0",
         "0",
         "4",
         "29101.75274"
        ],
        [
         "27",
         "33.59785212",
         "0",
         "24.93879472",
         "0",
         "1",
         "3",
         "19305.1926"
        ],
        [
         "28",
         "54.0",
         "0",
         "24.47429357",
         "0",
         "1",
         "3",
         "12479.52727"
        ],
        [
         "29",
         "35.17896426",
         "1",
         "26.08142444",
         "0",
         "3",
         "5",
         "7730.763326"
        ],
        [
         "30",
         "50.0",
         "0",
         "31.34042505",
         "0",
         "0",
         "2",
         "10118.06319"
        ],
        [
         "31",
         "43.03959669",
         "0",
         "28.07358974",
         "0",
         "2",
         "5",
         "9579.155554"
        ],
        [
         "32",
         "24.0",
         "1",
         "40.15",
         "1",
         "2",
         "0",
         "38126.2465"
        ],
        [
         "33",
         "40.78535135",
         "1",
         "28.38898042",
         "0",
         "2",
         "2",
         "7168.903965"
        ],
        [
         "34",
         "30.03118751",
         "0",
         "30.98089265",
         "0",
         "3",
         "4",
         "5482.29169"
        ],
        [
         "35",
         "51.0",
         "1",
         "42.9",
         "1",
         "2",
         "2",
         "47462.894"
        ],
        [
         "36",
         "41.29055884",
         "1",
         "30.49858433",
         "0",
         "2",
         "5",
         "9051.900035"
        ],
        [
         "37",
         "38.0",
         "0",
         "27.6",
         "0",
         "3",
         "0",
         "5383.536"
        ],
        [
         "38",
         "40.47050469",
         "1",
         "20.95426097",
         "0",
         "2",
         "5",
         "17352.42483"
        ],
        [
         "39",
         "50.11072253",
         "1",
         "34.79730783",
         "0",
         "1",
         "3",
         "10480.89559"
        ],
        [
         "40",
         "57.0",
         "1",
         "33.63",
         "0",
         "1",
         "1",
         "11945.1327"
        ],
        [
         "41",
         "47.0",
         "0",
         "46.98649601",
         "0",
         "2",
         "1",
         "8083.178229"
        ],
        [
         "42",
         "46.0",
         "1",
         "38.17",
         "0",
         "2",
         "2",
         "8347.1643"
        ],
        [
         "43",
         "39.85185914",
         "1",
         "33.14905567",
         "1",
         "3",
         "2",
         "40018.22896"
        ],
        [
         "44",
         "37.0",
         "0",
         "23.37",
         "0",
         "1",
         "2",
         "6686.4313"
        ],
        [
         "45",
         "18.0",
         "0",
         "37.29",
         "0",
         "2",
         "1",
         "2219.4451"
        ],
        [
         "46",
         "33.0",
         "1",
         "39.44729731",
         "0",
         "0",
         "5",
         "6662.138743"
        ],
        [
         "47",
         "36.5858138",
         "1",
         "28.63432552",
         "0",
         "1",
         "4",
         "7076.892661"
        ],
        [
         "48",
         "20.56790404",
         "1",
         "27.3718085",
         "0",
         "3",
         "5",
         "4790.311531"
        ],
        [
         "49",
         "42.93948187",
         "1",
         "24.95617143",
         "0",
         "2",
         "5",
         "9434.73172"
        ]
       ],
       "shape": {
        "columns": 7,
        "rows": 3630
       }
      },
      "text/html": [
       "<div>\n",
       "<style scoped>\n",
       "    .dataframe tbody tr th:only-of-type {\n",
       "        vertical-align: middle;\n",
       "    }\n",
       "\n",
       "    .dataframe tbody tr th {\n",
       "        vertical-align: top;\n",
       "    }\n",
       "\n",
       "    .dataframe thead th {\n",
       "        text-align: right;\n",
       "    }\n",
       "</style>\n",
       "<table border=\"1\" class=\"dataframe\">\n",
       "  <thead>\n",
       "    <tr style=\"text-align: right;\">\n",
       "      <th></th>\n",
       "      <th>age</th>\n",
       "      <th>sex</th>\n",
       "      <th>bmi</th>\n",
       "      <th>smoker</th>\n",
       "      <th>region</th>\n",
       "      <th>children</th>\n",
       "      <th>charges</th>\n",
       "    </tr>\n",
       "  </thead>\n",
       "  <tbody>\n",
       "    <tr>\n",
       "      <th>0</th>\n",
       "      <td>21.000000</td>\n",
       "      <td>1</td>\n",
       "      <td>25.745000</td>\n",
       "      <td>0</td>\n",
       "      <td>0</td>\n",
       "      <td>2</td>\n",
       "      <td>3279.868550</td>\n",
       "    </tr>\n",
       "    <tr>\n",
       "      <th>1</th>\n",
       "      <td>36.976978</td>\n",
       "      <td>0</td>\n",
       "      <td>25.744165</td>\n",
       "      <td>1</td>\n",
       "      <td>2</td>\n",
       "      <td>3</td>\n",
       "      <td>21454.494240</td>\n",
       "    </tr>\n",
       "    <tr>\n",
       "      <th>2</th>\n",
       "      <td>18.000000</td>\n",
       "      <td>1</td>\n",
       "      <td>30.030000</td>\n",
       "      <td>0</td>\n",
       "      <td>2</td>\n",
       "      <td>1</td>\n",
       "      <td>1720.353700</td>\n",
       "    </tr>\n",
       "    <tr>\n",
       "      <th>3</th>\n",
       "      <td>37.000000</td>\n",
       "      <td>1</td>\n",
       "      <td>30.676891</td>\n",
       "      <td>0</td>\n",
       "      <td>0</td>\n",
       "      <td>3</td>\n",
       "      <td>6801.437542</td>\n",
       "    </tr>\n",
       "    <tr>\n",
       "      <th>4</th>\n",
       "      <td>58.000000</td>\n",
       "      <td>1</td>\n",
       "      <td>32.010000</td>\n",
       "      <td>0</td>\n",
       "      <td>2</td>\n",
       "      <td>1</td>\n",
       "      <td>11946.625900</td>\n",
       "    </tr>\n",
       "    <tr>\n",
       "      <th>...</th>\n",
       "      <td>...</td>\n",
       "      <td>...</td>\n",
       "      <td>...</td>\n",
       "      <td>...</td>\n",
       "      <td>...</td>\n",
       "      <td>...</td>\n",
       "      <td>...</td>\n",
       "    </tr>\n",
       "    <tr>\n",
       "      <th>3625</th>\n",
       "      <td>48.820767</td>\n",
       "      <td>0</td>\n",
       "      <td>41.426984</td>\n",
       "      <td>0</td>\n",
       "      <td>1</td>\n",
       "      <td>4</td>\n",
       "      <td>10987.324960</td>\n",
       "    </tr>\n",
       "    <tr>\n",
       "      <th>3626</th>\n",
       "      <td>38.661977</td>\n",
       "      <td>0</td>\n",
       "      <td>26.202557</td>\n",
       "      <td>0</td>\n",
       "      <td>2</td>\n",
       "      <td>2</td>\n",
       "      <td>11735.844350</td>\n",
       "    </tr>\n",
       "    <tr>\n",
       "      <th>3627</th>\n",
       "      <td>56.000000</td>\n",
       "      <td>1</td>\n",
       "      <td>40.300000</td>\n",
       "      <td>0</td>\n",
       "      <td>3</td>\n",
       "      <td>0</td>\n",
       "      <td>10602.385000</td>\n",
       "    </tr>\n",
       "    <tr>\n",
       "      <th>3628</th>\n",
       "      <td>48.061207</td>\n",
       "      <td>0</td>\n",
       "      <td>34.930624</td>\n",
       "      <td>0</td>\n",
       "      <td>2</td>\n",
       "      <td>1</td>\n",
       "      <td>8976.140452</td>\n",
       "    </tr>\n",
       "    <tr>\n",
       "      <th>3629</th>\n",
       "      <td>37.598865</td>\n",
       "      <td>0</td>\n",
       "      <td>25.219233</td>\n",
       "      <td>0</td>\n",
       "      <td>0</td>\n",
       "      <td>3</td>\n",
       "      <td>7027.698968</td>\n",
       "    </tr>\n",
       "  </tbody>\n",
       "</table>\n",
       "<p>3630 rows × 7 columns</p>\n",
       "</div>"
      ],
      "text/plain": [
       "            age  sex        bmi  smoker  region  children       charges\n",
       "0     21.000000    1  25.745000       0       0         2   3279.868550\n",
       "1     36.976978    0  25.744165       1       2         3  21454.494240\n",
       "2     18.000000    1  30.030000       0       2         1   1720.353700\n",
       "3     37.000000    1  30.676891       0       0         3   6801.437542\n",
       "4     58.000000    1  32.010000       0       2         1  11946.625900\n",
       "...         ...  ...        ...     ...     ...       ...           ...\n",
       "3625  48.820767    0  41.426984       0       1         4  10987.324960\n",
       "3626  38.661977    0  26.202557       0       2         2  11735.844350\n",
       "3627  56.000000    1  40.300000       0       3         0  10602.385000\n",
       "3628  48.061207    0  34.930624       0       2         1   8976.140452\n",
       "3629  37.598865    0  25.219233       0       0         3   7027.698968\n",
       "\n",
       "[3630 rows x 7 columns]"
      ]
     },
     "execution_count": 13,
     "metadata": {},
     "output_type": "execute_result"
    }
   ],
   "source": [
    "## implimenting label encoding\n",
    "\n",
    "enc = LabelEncoder()\n",
    "df['sex']=enc.fit_transform(df['sex']) \n",
    "df['smoker']=enc.fit_transform(df['smoker'])\n",
    "df['region']=enc.fit_transform(df['region'])\n",
    "df"
   ]
  },
  {
   "cell_type": "code",
   "execution_count": 14,
   "id": "969e974f-b68e-4009-a5ba-5899d8989aa3",
   "metadata": {},
   "outputs": [
    {
     "data": {
      "image/png": "[encoded data removed]",
      "text/plain": [
       "<Figure size 500x500 with 1 Axes>"
      ]
     },
     "metadata": {},
     "output_type": "display_data"
    },
    {
     "data": {
      "image/png": "[encoded data removed]",
      "text/plain": [
       "<Figure size 500x500 with 1 Axes>"
      ]
     },
     "metadata": {},
     "output_type": "display_data"
    },
    {
     "data": {
      "image/png": "[encoded data removed]",
      "text/plain": [
       "<Figure size 1000x700 with 2 Axes>"
      ]
     },
     "metadata": {},
     "output_type": "display_data"
    }
   ],
   "source": [
    "## getting correlated features with target variables\n",
    "plt.figure(figsize=(10,7))\n",
    "sns.heatmap(df.corr(), annot = True)\n",
    "plt.show()"
   ]
  },
  {
   "cell_type": "code",
   "execution_count": 15,
   "id": "1027dd3b-1e59-4586-8190-9eee223174f4",
   "metadata": {},
   "outputs": [],
   "source": [
    "# splitting up our dataset into features x , and target y\n",
    "\n",
    "x=df.drop(columns=['charges'],axis=1)"
   ]
  },
  {
   "cell_type": "code",
   "execution_count": 16,
   "id": "3b71d835-0d20-4c04-af57-8f26d5144b2b",
   "metadata": {
    "scrolled": true
   },
   "outputs": [
    {
     "data": {
      "application/vnd.microsoft.datawrangler.viewer.v0+json": {
       "columns": [
        {
         "name": "index",
         "rawType": "int64",
         "type": "integer"
        },
        {
         "name": "age",
         "rawType": "float64",
         "type": "float"
        },
        {
         "name": "sex",
         "rawType": "int32",
         "type": "integer"
        },
        {
         "name": "bmi",
         "rawType": "float64",
         "type": "float"
        },
        {
         "name": "smoker",
         "rawType": "int32",
         "type": "integer"
        },
        {
         "name": "region",
         "rawType": "int32",
         "type": "integer"
        },
        {
         "name": "children",
         "rawType": "int64",
         "type": "integer"
        }
       ],
       "ref": "3fbc89b9-80f8-4d3d-9b70-d8e50ba9f2c7",
       "rows": [
        [
         "0",
         "21.0",
         "1",
         "25.745",
         "0",
         "0",
         "2"
        ],
        [
         "1",
         "36.976978",
         "0",
         "25.74416485",
         "1",
         "2",
         "3"
        ],
        [
         "2",
         "18.0",
         "1",
         "30.03",
         "0",
         "2",
         "1"
        ],
        [
         "3",
         "37.0",
         "1",
         "30.67689127",
         "0",
         "0",
         "3"
        ],
        [
         "4",
         "58.0",
         "1",
         "32.01",
         "0",
         "2",
         "1"
        ],
        [
         "5",
         "46.0",
         "1",
         "26.62",
         "0",
         "2",
         "1"
        ],
        [
         "6",
         "25.22173065",
         "1",
         "31.19264736",
         "0",
         "0",
         "4"
        ],
        [
         "7",
         "29.48644271",
         "0",
         "24.22261415",
         "0",
         "1",
         "2"
        ],
        [
         "8",
         "26.52049427",
         "1",
         "25.06571227",
         "0",
         "3",
         "5"
        ],
        [
         "9",
         "47.49347612",
         "0",
         "27.30201322",
         "0",
         "1",
         "3"
        ],
        [
         "10",
         "35.69460731",
         "1",
         "33.57712776",
         "1",
         "3",
         "2"
        ],
        [
         "11",
         "45.0",
         "0",
         "26.91741127",
         "0",
         "0",
         "2"
        ],
        [
         "12",
         "36.42084212",
         "1",
         "31.80639454",
         "0",
         "0",
         "4"
        ],
        [
         "13",
         "44.32531031",
         "0",
         "26.93787533",
         "0",
         "3",
         "1"
        ],
        [
         "14",
         "22.34422463",
         "1",
         "27.04518479",
         "0",
         "0",
         "4"
        ],
        [
         "15",
         "46.697739",
         "1",
         "33.55485918",
         "1",
         "0",
         "1"
        ],
        [
         "16",
         "19.86085293",
         "0",
         "25.32350602",
         "0",
         "1",
         "1"
        ],
        [
         "17",
         "47.0",
         "1",
         "36.08",
         "1",
         "2",
         "1"
        ],
        [
         "18",
         "64.0",
         "0",
         "30.115",
         "0",
         "1",
         "3"
        ],
        [
         "19",
         "29.0",
         "1",
         "32.11",
         "0",
         "1",
         "2"
        ],
        [
         "20",
         "38.0",
         "0",
         "34.8",
         "0",
         "3",
         "2"
        ],
        [
         "21",
         "47.0",
         "0",
         "24.1",
         "0",
         "3",
         "1"
        ],
        [
         "22",
         "32.22547032",
         "0",
         "37.24138856",
         "0",
         "0",
         "3"
        ],
        [
         "23",
         "28.63887904",
         "1",
         "28.23936325",
         "0",
         "3",
         "5"
        ],
        [
         "24",
         "63.0",
         "0",
         "32.2",
         "1",
         "3",
         "2"
        ],
        [
         "25",
         "52.0",
         "1",
         "32.205",
         "0",
         "0",
         "3"
        ],
        [
         "26",
         "34.03884791",
         "1",
         "30.5584621",
         "0",
         "0",
         "4"
        ],
        [
         "27",
         "33.59785212",
         "0",
         "24.93879472",
         "0",
         "1",
         "3"
        ],
        [
         "28",
         "54.0",
         "0",
         "24.47429357",
         "0",
         "1",
         "3"
        ],
        [
         "29",
         "35.17896426",
         "1",
         "26.08142444",
         "0",
         "3",
         "5"
        ],
        [
         "30",
         "50.0",
         "0",
         "31.34042505",
         "0",
         "0",
         "2"
        ],
        [
         "31",
         "43.03959669",
         "0",
         "28.07358974",
         "0",
         "2",
         "5"
        ],
        [
         "32",
         "24.0",
         "1",
         "40.15",
         "1",
         "2",
         "0"
        ],
        [
         "33",
         "40.78535135",
         "1",
         "28.38898042",
         "0",
         "2",
         "2"
        ],
        [
         "34",
         "30.03118751",
         "0",
         "30.98089265",
         "0",
         "3",
         "4"
        ],
        [
         "35",
         "51.0",
         "1",
         "42.9",
         "1",
         "2",
         "2"
        ],
        [
         "36",
         "41.29055884",
         "1",
         "30.49858433",
         "0",
         "2",
         "5"
        ],
        [
         "37",
         "38.0",
         "0",
         "27.6",
         "0",
         "3",
         "0"
        ],
        [
         "38",
         "40.47050469",
         "1",
         "20.95426097",
         "0",
         "2",
         "5"
        ],
        [
         "39",
         "50.11072253",
         "1",
         "34.79730783",
         "0",
         "1",
         "3"
        ],
        [
         "40",
         "57.0",
         "1",
         "33.63",
         "0",
         "1",
         "1"
        ],
        [
         "41",
         "47.0",
         "0",
         "46.98649601",
         "0",
         "2",
         "1"
        ],
        [
         "42",
         "46.0",
         "1",
         "38.17",
         "0",
         "2",
         "2"
        ],
        [
         "43",
         "39.85185914",
         "1",
         "33.14905567",
         "1",
         "3",
         "2"
        ],
        [
         "44",
         "37.0",
         "0",
         "23.37",
         "0",
         "1",
         "2"
        ],
        [
         "45",
         "18.0",
         "0",
         "37.29",
         "0",
         "2",
         "1"
        ],
        [
         "46",
         "33.0",
         "1",
         "39.44729731",
         "0",
         "0",
         "5"
        ],
        [
         "47",
         "36.5858138",
         "1",
         "28.63432552",
         "0",
         "1",
         "4"
        ],
        [
         "48",
         "20.56790404",
         "1",
         "27.3718085",
         "0",
         "3",
         "5"
        ],
        [
         "49",
         "42.93948187",
         "1",
         "24.95617143",
         "0",
         "2",
         "5"
        ]
       ],
       "shape": {
        "columns": 6,
        "rows": 3630
       }
      },
      "text/html": [
       "<div>\n",
       "<style scoped>\n",
       "    .dataframe tbody tr th:only-of-type {\n",
       "        vertical-align: middle;\n",
       "    }\n",
       "\n",
       "    .dataframe tbody tr th {\n",
       "        vertical-align: top;\n",
       "    }\n",
       "\n",
       "    .dataframe thead th {\n",
       "        text-align: right;\n",
       "    }\n",
       "</style>\n",
       "<table border=\"1\" class=\"dataframe\">\n",
       "  <thead>\n",
       "    <tr style=\"text-align: right;\">\n",
       "      <th></th>\n",
       "      <th>age</th>\n",
       "      <th>sex</th>\n",
       "      <th>bmi</th>\n",
       "      <th>smoker</th>\n",
       "      <th>region</th>\n",
       "      <th>children</th>\n",
       "    </tr>\n",
       "  </thead>\n",
       "  <tbody>\n",
       "    <tr>\n",
       "      <th>0</th>\n",
       "      <td>21.000000</td>\n",
       "      <td>1</td>\n",
       "      <td>25.745000</td>\n",
       "      <td>0</td>\n",
       "      <td>0</td>\n",
       "      <td>2</td>\n",
       "    </tr>\n",
       "    <tr>\n",
       "      <th>1</th>\n",
       "      <td>36.976978</td>\n",
       "      <td>0</td>\n",
       "      <td>25.744165</td>\n",
       "      <td>1</td>\n",
       "      <td>2</td>\n",
       "      <td>3</td>\n",
       "    </tr>\n",
       "    <tr>\n",
       "      <th>2</th>\n",
       "      <td>18.000000</td>\n",
       "      <td>1</td>\n",
       "      <td>30.030000</td>\n",
       "      <td>0</td>\n",
       "      <td>2</td>\n",
       "      <td>1</td>\n",
       "    </tr>\n",
       "    <tr>\n",
       "      <th>3</th>\n",
       "      <td>37.000000</td>\n",
       "      <td>1</td>\n",
       "      <td>30.676891</td>\n",
       "      <td>0</td>\n",
       "      <td>0</td>\n",
       "      <td>3</td>\n",
       "    </tr>\n",
       "    <tr>\n",
       "      <th>4</th>\n",
       "      <td>58.000000</td>\n",
       "      <td>1</td>\n",
       "      <td>32.010000</td>\n",
       "      <td>0</td>\n",
       "      <td>2</td>\n",
       "      <td>1</td>\n",
       "    </tr>\n",
       "    <tr>\n",
       "      <th>...</th>\n",
       "      <td>...</td>\n",
       "      <td>...</td>\n",
       "      <td>...</td>\n",
       "      <td>...</td>\n",
       "      <td>...</td>\n",
       "      <td>...</td>\n",
       "    </tr>\n",
       "    <tr>\n",
       "      <th>3625</th>\n",
       "      <td>48.820767</td>\n",
       "      <td>0</td>\n",
       "      <td>41.426984</td>\n",
       "      <td>0</td>\n",
       "      <td>1</td>\n",
       "      <td>4</td>\n",
       "    </tr>\n",
       "    <tr>\n",
       "      <th>3626</th>\n",
       "      <td>38.661977</td>\n",
       "      <td>0</td>\n",
       "      <td>26.202557</td>\n",
       "      <td>0</td>\n",
       "      <td>2</td>\n",
       "      <td>2</td>\n",
       "    </tr>\n",
       "    <tr>\n",
       "      <th>3627</th>\n",
       "      <td>56.000000</td>\n",
       "      <td>1</td>\n",
       "      <td>40.300000</td>\n",
       "      <td>0</td>\n",
       "      <td>3</td>\n",
       "      <td>0</td>\n",
       "    </tr>\n",
       "    <tr>\n",
       "      <th>3628</th>\n",
       "      <td>48.061207</td>\n",
       "      <td>0</td>\n",
       "      <td>34.930624</td>\n",
       "      <td>0</td>\n",
       "      <td>2</td>\n",
       "      <td>1</td>\n",
       "    </tr>\n",
       "    <tr>\n",
       "      <th>3629</th>\n",
       "      <td>37.598865</td>\n",
       "      <td>0</td>\n",
       "      <td>25.219233</td>\n",
       "      <td>0</td>\n",
       "      <td>0</td>\n",
       "      <td>3</td>\n",
       "    </tr>\n",
       "  </tbody>\n",
       "</table>\n",
       "<p>3630 rows × 6 columns</p>\n",
       "</div>"
      ],
      "text/plain": [
       "            age  sex        bmi  smoker  region  children\n",
       "0     21.000000    1  25.745000       0       0         2\n",
       "1     36.976978    0  25.744165       1       2         3\n",
       "2     18.000000    1  30.030000       0       2         1\n",
       "3     37.000000    1  30.676891       0       0         3\n",
       "4     58.000000    1  32.010000       0       2         1\n",
       "...         ...  ...        ...     ...     ...       ...\n",
       "3625  48.820767    0  41.426984       0       1         4\n",
       "3626  38.661977    0  26.202557       0       2         2\n",
       "3627  56.000000    1  40.300000       0       3         0\n",
       "3628  48.061207    0  34.930624       0       2         1\n",
       "3629  37.598865    0  25.219233       0       0         3\n",
       "\n",
       "[3630 rows x 6 columns]"
      ]
     },
     "execution_count": 16,
     "metadata": {},
     "output_type": "execute_result"
    }
   ],
   "source": [
    "x"
   ]
  },
  {
   "cell_type": "code",
   "execution_count": 17,
   "id": "ec33bb1d-a6cf-4779-9dbc-840ee25efb1d",
   "metadata": {},
   "outputs": [],
   "source": [
    "y=df['charges']"
   ]
  },
  {
   "cell_type": "code",
   "execution_count": 18,
   "id": "d0734a8a-6a2c-49d8-9c01-2ecb6d4219b7",
   "metadata": {},
   "outputs": [
    {
     "data": {
      "application/vnd.microsoft.datawrangler.viewer.v0+json": {
       "columns": [
        {
         "name": "index",
         "rawType": "int64",
         "type": "integer"
        },
        {
         "name": "charges",
         "rawType": "float64",
         "type": "float"
        }
       ],
       "ref": "e8b8f2b1-3bff-46b8-bfe1-95921e07486e",
       "rows": [
        [
         "0",
         "3279.86855"
        ],
        [
         "1",
         "21454.49424"
        ],
        [
         "2",
         "1720.3537"
        ],
        [
         "3",
         "6801.437542"
        ],
        [
         "4",
         "11946.6259"
        ],
        [
         "5",
         "7742.1098"
        ],
        [
         "6",
         "21736.32814"
        ],
        [
         "7",
         "4916.953065"
        ],
        [
         "8",
         "5515.809345"
        ],
        [
         "9",
         "17009.33499"
        ],
        [
         "10",
         "38433.5243"
        ],
        [
         "11",
         "8549.137155"
        ],
        [
         "12",
         "16099.36762"
        ],
        [
         "13",
         "7492.985451"
        ],
        [
         "14",
         "18091.37381"
        ],
        [
         "15",
         "41501.65555"
        ],
        [
         "16",
         "2661.191273"
        ],
        [
         "17",
         "42211.1382"
        ],
        [
         "18",
         "16455.70785"
        ],
        [
         "19",
         "4433.9159"
        ],
        [
         "20",
         "6571.544"
        ],
        [
         "21",
         "26236.57997"
        ],
        [
         "22",
         "6318.797873"
        ],
        [
         "23",
         "5795.905627"
        ],
        [
         "24",
         "47305.305"
        ],
        [
         "25",
         "11488.31695"
        ],
        [
         "26",
         "29101.75274"
        ],
        [
         "27",
         "19305.1926"
        ],
        [
         "28",
         "12479.52727"
        ],
        [
         "29",
         "7730.763326"
        ],
        [
         "30",
         "10118.06319"
        ],
        [
         "31",
         "9579.155554"
        ],
        [
         "32",
         "38126.2465"
        ],
        [
         "33",
         "7168.903965"
        ],
        [
         "34",
         "5482.29169"
        ],
        [
         "35",
         "47462.894"
        ],
        [
         "36",
         "9051.900035"
        ],
        [
         "37",
         "5383.536"
        ],
        [
         "38",
         "17352.42483"
        ],
        [
         "39",
         "10480.89559"
        ],
        [
         "40",
         "11945.1327"
        ],
        [
         "41",
         "8083.178229"
        ],
        [
         "42",
         "8347.1643"
        ],
        [
         "43",
         "40018.22896"
        ],
        [
         "44",
         "6686.4313"
        ],
        [
         "45",
         "2219.4451"
        ],
        [
         "46",
         "6662.138743"
        ],
        [
         "47",
         "7076.892661"
        ],
        [
         "48",
         "4790.311531"
        ],
        [
         "49",
         "9434.73172"
        ]
       ],
       "shape": {
        "columns": 1,
        "rows": 3630
       }
      },
      "text/plain": [
       "0        3279.868550\n",
       "1       21454.494240\n",
       "2        1720.353700\n",
       "3        6801.437542\n",
       "4       11946.625900\n",
       "            ...     \n",
       "3625    10987.324960\n",
       "3626    11735.844350\n",
       "3627    10602.385000\n",
       "3628     8976.140452\n",
       "3629     7027.698968\n",
       "Name: charges, Length: 3630, dtype: float64"
      ]
     },
     "execution_count": 18,
     "metadata": {},
     "output_type": "execute_result"
    }
   ],
   "source": [
    "y"
   ]
  },
  {
   "cell_type": "code",
   "execution_count": 19,
   "id": "6d3c94a5-68c0-4420-a685-a73575906ee7",
   "metadata": {},
   "outputs": [],
   "source": [
    "from sklearn.model_selection import train_test_split\n",
    "\n",
    "# Explicitly setting test size (commonly 20-30%)\n",
    "x_train, x_test, y_train, y_test = train_test_split(\n",
    "    x, y, \n",
    "    test_size=0.2,    # 20% for testing\n",
    "    random_state=25   # for reproducibility\n",
    "    \n",
    ")"
   ]
  },
  {
   "cell_type": "code",
   "execution_count": 20,
   "id": "ffdbfa00-cde1-4e24-bc47-29a320fd2cb1",
   "metadata": {},
   "outputs": [],
   "source": [
    "\n",
    "# 2. Feature Scaling\n",
    "scaler = StandardScaler()\n",
    "\n",
    "# Fit ONLY on training data (to prevent data leakage)\n",
    "x_train_scaled = scaler.fit_transform(x_train)\n",
    "\n",
    "# Transform test data using the SAME scaler parameters\n",
    "x_test_scaled = scaler.transform(x_test)"
   ]
  },
  {
   "cell_type": "code",
   "execution_count": 21,
   "id": "d43d869e-b603-4147-b28a-06776ece86c3",
   "metadata": {},
   "outputs": [],
   "source": [
    "# Save the scaler object for future use\n",
    "pickle.dump(scaler, open('scaling.pkl', 'wb'))"
   ]
  },
  {
   "cell_type": "code",
   "execution_count": 22,
   "id": "38b1ab2f-f3b9-4cf4-b215-36eed62a0792",
   "metadata": {},
   "outputs": [],
   "source": [
    "# inertialising our model\n",
    "model=LinearRegression()"
   ]
  },
  {
   "cell_type": "code",
   "execution_count": 24,
   "id": "359048b7-749e-40f6-a37f-2c442a53aaa7",
   "metadata": {},
   "outputs": [
    {
     "name": "stdout",
     "output_type": "stream",
     "text": [
      "R2 Score: 0.7293\n"
     ]
    }
   ],
   "source": [
    "model.fit(x_train_scaled, y_train)\n",
    "y_pred = model.predict(x_test_scaled)\n",
    "r2 = r2_score(y_test, y_pred)\n",
    "print(f\"R2 Score: {r2:.4f}\")"
   ]
  },
  {
   "cell_type": "code",
   "execution_count": 25,
   "id": "405d74f0-82fb-44af-856a-f56bfe989619",
   "metadata": {},
   "outputs": [
    {
     "data": {
      "text/plain": [
       "array([ 8739.30857283,  5455.72869758,  6370.33324359,  9454.3851376 ,\n",
       "        4677.95853535, 36282.68226418,  8877.87949489,  5296.70449466,\n",
       "        5301.8151617 , 33687.0182811 ])"
      ]
     },
     "execution_count": 25,
     "metadata": {},
     "output_type": "execute_result"
    }
   ],
   "source": [
    "y_pred[:10]"
   ]
  },
  {
   "cell_type": "code",
   "execution_count": 26,
   "id": "95bf3b93-21b4-4b56-988d-ff4d7992c45f",
   "metadata": {},
   "outputs": [
    {
     "data": {
      "application/vnd.microsoft.datawrangler.viewer.v0+json": {
       "columns": [
        {
         "name": "index",
         "rawType": "int64",
         "type": "integer"
        },
        {
         "name": "charges",
         "rawType": "float64",
         "type": "float"
        }
       ],
       "ref": "d3c8adba-5838-45db-b998-30405a000858",
       "rows": [
        [
         "359",
         "6951.199011"
        ],
        [
         "1311",
         "4828.514248"
        ],
        [
         "1006",
         "4347.02335"
        ],
        [
         "354",
         "9634.152291"
        ],
        [
         "1557",
         "1826.843"
        ],
        [
         "2030",
         "41920.07943"
        ],
        [
         "340",
         "18638.61322"
        ],
        [
         "1541",
         "5127.607696"
        ],
        [
         "2894",
         "4772.875889"
        ],
        [
         "2259",
         "22198.8757"
        ]
       ],
       "shape": {
        "columns": 1,
        "rows": 10
       }
      },
      "text/plain": [
       "359      6951.199011\n",
       "1311     4828.514248\n",
       "1006     4347.023350\n",
       "354      9634.152291\n",
       "1557     1826.843000\n",
       "2030    41920.079430\n",
       "340     18638.613220\n",
       "1541     5127.607696\n",
       "2894     4772.875889\n",
       "2259    22198.875700\n",
       "Name: charges, dtype: float64"
      ]
     },
     "execution_count": 26,
     "metadata": {},
     "output_type": "execute_result"
    }
   ],
   "source": [
    "y_test[:10]"
   ]
  },
  {
   "cell_type": "code",
   "execution_count": 27,
   "id": "c6e01a8c-f7f5-4f38-882b-acd69dc5b809",
   "metadata": {},
   "outputs": [
    {
     "name": "stdout",
     "output_type": "stream",
     "text": [
      "age     1.458 +/- 0.179\n",
      "smoker  0.343 +/- 0.070\n",
      "children0.059 +/- 0.029\n",
      "sex     0.029 +/- 0.005\n"
     ]
    }
   ],
   "source": [
    "## getting the featues that influence our model greatly\n",
    "\n",
    "from sklearn.inspection import permutation_importance\n",
    "r = permutation_importance(model, x_test, y_test,\n",
    "                           n_repeats=30,\n",
    "                           random_state=0)\n",
    "for i in r.importances_mean.argsort()[::-1]:\n",
    "    if r.importances_mean[i] - 2 * r.importances_std[i] > 0:\n",
    "        print(f\"{df.columns[i]:<8}\"\n",
    "              f\"{r.importances_mean[i]:.3f}\"\n",
    "              f\" +/- {r.importances_std[i]:.3f}\")"
   ]
  },
  {
   "cell_type": "code",
   "execution_count": 28,
   "id": "2aaef5c8-8b30-4a27-9d58-84a705514f40",
   "metadata": {},
   "outputs": [
    {
     "data": {
      "image/png": "[encoded data removed]",
      "text/plain": [
       "<Figure size 400x800 with 2 Axes>"
      ]
     },
     "metadata": {},
     "output_type": "display_data"
    }
   ],
   "source": [
    "# Create a correlation matrix with target variable\n",
    "corr_with_target = x.corrwith(y)\n",
    "\n",
    "# Sort features by correlation with target variable\n",
    "corr_with_target = corr_with_target.sort_values(ascending=False)\n",
    "\n",
    "# Plot the heatmap\n",
    "plt.figure(figsize=(4, 8))\n",
    "sns.heatmap(corr_with_target.to_frame(), cmap='GnBu', annot=True)\n",
    "plt.title('Correlation with Target Variable')\n",
    "plt.show()"
   ]
  },
  {
   "cell_type": "code",
   "execution_count": 29,
   "id": "754ec848-9f07-4d89-b5ca-9297d5f179b0",
   "metadata": {},
   "outputs": [
    {
     "data": {
      "application/vnd.microsoft.datawrangler.viewer.v0+json": {
       "columns": [
        {
         "name": "index",
         "rawType": "int64",
         "type": "integer"
        },
        {
         "name": "age",
         "rawType": "int64",
         "type": "integer"
        },
        {
         "name": "sex",
         "rawType": "int64",
         "type": "integer"
        },
        {
         "name": "bmi",
         "rawType": "int64",
         "type": "integer"
        },
        {
         "name": "children",
         "rawType": "int64",
         "type": "integer"
        },
        {
         "name": "smoker",
         "rawType": "int64",
         "type": "integer"
        },
        {
         "name": "region",
         "rawType": "int64",
         "type": "integer"
        }
       ],
       "ref": "c6d0e0b0-80af-4850-91df-16d480ff8554",
       "rows": [
        [
         "0",
         "50",
         "1",
         "25",
         "2",
         "1",
         "2"
        ]
       ],
       "shape": {
        "columns": 6,
        "rows": 1
       }
      },
      "text/html": [
       "<div>\n",
       "<style scoped>\n",
       "    .dataframe tbody tr th:only-of-type {\n",
       "        vertical-align: middle;\n",
       "    }\n",
       "\n",
       "    .dataframe tbody tr th {\n",
       "        vertical-align: top;\n",
       "    }\n",
       "\n",
       "    .dataframe thead th {\n",
       "        text-align: right;\n",
       "    }\n",
       "</style>\n",
       "<table border=\"1\" class=\"dataframe\">\n",
       "  <thead>\n",
       "    <tr style=\"text-align: right;\">\n",
       "      <th></th>\n",
       "      <th>age</th>\n",
       "      <th>sex</th>\n",
       "      <th>bmi</th>\n",
       "      <th>children</th>\n",
       "      <th>smoker</th>\n",
       "      <th>region</th>\n",
       "    </tr>\n",
       "  </thead>\n",
       "  <tbody>\n",
       "    <tr>\n",
       "      <th>0</th>\n",
       "      <td>50</td>\n",
       "      <td>1</td>\n",
       "      <td>25</td>\n",
       "      <td>2</td>\n",
       "      <td>1</td>\n",
       "      <td>2</td>\n",
       "    </tr>\n",
       "  </tbody>\n",
       "</table>\n",
       "</div>"
      ],
      "text/plain": [
       "   age  sex  bmi  children  smoker  region\n",
       "0   50    1   25         2       1       2"
      ]
     },
     "execution_count": 29,
     "metadata": {},
     "output_type": "execute_result"
    }
   ],
   "source": [
    "data = {'age':50, 'sex':1,'bmi':25, 'children':2, 'smoker':1, 'region':2}\n",
    "index = [0]\n",
    "cust_df = pd.DataFrame(data, index)\n",
    "cust_df"
   ]
  },
  {
   "cell_type": "code",
   "execution_count": 30,
   "id": "b593d1a1-77a4-4371-bb4a-afecc56c1751",
   "metadata": {},
   "outputs": [
    {
     "name": "stdout",
     "output_type": "stream",
     "text": [
      "The medical insurance cost of the new customer is:  [206792.87083017]\n"
     ]
    }
   ],
   "source": [
    "cost_pred = model.predict(cust_df)\n",
    "print(\"The medical insurance cost of the new customer is: \", cost_pred)"
   ]
  },
  {
   "cell_type": "markdown",
   "id": "1e6694ae-5289-476a-a742-379a5e2f48f3",
   "metadata": {},
   "source": [
    "## Pickling The Model file For Deployment"
   ]
  },
  {
   "cell_type": "code",
   "execution_count": 31,
   "id": "bed105ff-15c0-4fb1-86b5-e614b08458ae",
   "metadata": {},
   "outputs": [],
   "source": [
    "\n",
    "import pickle"
   ]
  },
  {
   "cell_type": "code",
   "execution_count": 37,
   "id": "37ed6a15-2401-4a73-9eb4-ab90fc407bff",
   "metadata": {},
   "outputs": [],
   "source": [
    "pickle.dump(model,open('regmodel.pkl','wb'))"
   ]
  },
  {
   "cell_type": "code",
   "execution_count": 38,
   "id": "5db9de64-baf6-4ec9-9450-d85f1e437289",
   "metadata": {},
   "outputs": [],
   "source": [
    "pickled_model=pickle.load(open('regmodel.pkl','rb'))"
   ]
  },
  {
   "cell_type": "code",
   "execution_count": 35,
   "id": "63c27051-dfbc-4661-844c-a0726e810a00",
   "metadata": {},
   "outputs": [
    {
     "name": "stdout",
     "output_type": "stream",
     "text": [
      "Model saved to: C:\\Users\\Administrator\\Downloads\\CICD GITHUB ACTION\\model.joblib\n",
      "Scaler saved to: C:\\Users\\Administrator\\Downloads\\CICD GITHUB ACTION\\scaler.joblib\n"
     ]
    }
   ],
   "source": [
    "save_dir = r\"C:\\Users\\Administrator\\Downloads\\CICD GITHUB ACTION\"\n",
    "model_path = os.path.join(save_dir, \"model.joblib\")\n",
    "scaler_path = os.path.join(save_dir, \"scaler.joblib\")\n",
    "\n",
    "# Save both model and scaler\n",
    "joblib.dump(model, model_path)\n",
    "joblib.dump(scaler, scaler_path)\n",
    "\n",
    "print(f\"Model saved to: {model_path}\")\n",
    "print(f\"Scaler saved to: {scaler_path}\")"
   ]
  },
  {
   "cell_type": "code",
   "execution_count": 33,
   "id": "329194f6-c010-4328-a82c-2bdaa4fed2bb",
   "metadata": {},
   "outputs": [
    {
     "data": {
      "text/plain": [
       "Index(['age', 'sex', 'bmi', 'smoker', 'region', 'children', 'charges'], dtype='object')"
      ]
     },
     "execution_count": 33,
     "metadata": {},
     "output_type": "execute_result"
    }
   ],
   "source": [
    "df.columns"
   ]
  },
  {
   "cell_type": "code",
   "execution_count": 34,
   "id": "9c63fd8d-9c66-473f-9cf1-5e95e2a416d7",
   "metadata": {},
   "outputs": [
    {
     "name": "stdout",
     "output_type": "stream",
     "text": [
      "scikit-learn: 1.4.2\n",
      "pandas: 2.2.3\n",
      "numpy: 1.26.4\n",
      "joblib: 1.4.2\n"
     ]
    }
   ],
   "source": [
    "import sklearn, pandas, numpy, joblib\n",
    "\n",
    "print(\"scikit-learn:\", sklearn.__version__)\n",
    "print(\"pandas:\", pandas.__version__)\n",
    "print(\"numpy:\", numpy.__version__)\n",
    "print(\"joblib:\", joblib.__version__)\n",
    "\n"
   ]
  },
  {
   "cell_type": "code",
   "execution_count": null,
   "id": "f25de7bb-ac69-412b-8a34-97767a29f0c9",
   "metadata": {},
   "outputs": [
    {
     "name": "stdout",
     "output_type": "stream",
     "text": [
      "scikit-learn: 1.4.2\n",
      "pandas: 2.2.3\n",
      "numpy: 1.26.4\n",
      "joblib: 1.4.2\n",
      "flask: 2.2.5\n",
      "pytest: 7.4.4\n"
     ]
    }
   ],
   "source": [
    "import sklearn\n",
    "import pandas\n",
    "import numpy\n",
    "import joblib\n",
    "import flask\n",
    "import pytest\n",
    "\n",
    "print(\"scikit-learn:\", sklearn.__version__)\n",
    "print(\"pandas:\", pandas.__version__)\n",
    "print(\"numpy:\", numpy.__version__)\n",
    "print(\"joblib:\", joblib.__version__)\n",
    "print(\"flask:\", flask.__version__)\n",
    "print(\"pytest:\", pytest.__version__)\n"
   ]
  },
  {
   "cell_type": "code",
   "execution_count": null,
   "id": "5f5e12d3-187f-4953-9ec3-061d64bb4112",
   "metadata": {},
   "outputs": [],
   "source": []
  }
 ],
 "metadata": {
  "kernelspec": {
   "display_name": "base",
   "language": "python",
   "name": "python3"
  },
  "language_info": {
   "codemirror_mode": {
    "name": "ipython",
    "version": 3
   },
   "file_extension": ".py",
   "mimetype": "text/x-python",
   "name": "python",
   "nbconvert_exporter": "python",
   "pygments_lexer": "ipython3",
   "version": "3.12.4"
  }
 },
 "nbformat": 4,
 "nbformat_minor": 5
}
